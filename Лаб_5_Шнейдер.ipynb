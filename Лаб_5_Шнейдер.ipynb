{
  "nbformat": 4,
  "nbformat_minor": 0,
  "metadata": {
    "colab": {
      "provenance": [],
      "authorship_tag": "ABX9TyNdF1XSJnQkOe3EHKs9//SU",
      "include_colab_link": true
    },
    "kernelspec": {
      "name": "python3",
      "display_name": "Python 3"
    },
    "language_info": {
      "name": "python"
    }
  },
  "cells": [
    {
      "cell_type": "markdown",
      "metadata": {
        "id": "view-in-github",
        "colab_type": "text"
      },
      "source": [
        "<a href=\"https://colab.research.google.com/github/Inc139/--24--2-2/blob/main/%D0%9B%D0%B0%D0%B1_5_%D0%A8%D0%BD%D0%B5%D0%B9%D0%B4%D0%B5%D1%80.ipynb\" target=\"_parent\"><img src=\"https://colab.research.google.com/assets/colab-badge.svg\" alt=\"Open In Colab\"/></a>"
      ]
    },
    {
      "cell_type": "code",
      "source": [
        "import requests\n",
        "from bs4 import BeautifulSoup\n",
        "from urllib.parse import urljoin\n",
        "\n",
        "def parse_openlibrary_sf_books():\n",
        "    base_url = \"https://openlibrary.org\"\n",
        "    category_url = urljoin(base_url, \"/subjects/science_fiction\")\n",
        "\n",
        "    books_data = []\n",
        "\n",
        "    try:\n",
        "        # Получаем HTML-страницу с книгами\n",
        "        response = requests.get(category_url)\n",
        "        response.raise_for_status()\n",
        "\n",
        "        soup = BeautifulSoup(response.text, 'html.parser')\n",
        "\n",
        "        # Находим все элементы с информацией о книгах\n",
        "        book_elements = soup.find_all('div', class_='book')\n",
        "\n",
        "        for book in book_elements[:20]:  # Ограничимся 20 книгами для примера\n",
        "            book_info = {}\n",
        "\n",
        "            # Название книги\n",
        "            title_element = book.find('h3', class_='results-title')\n",
        "            if title_element:\n",
        "                book_info['title'] = title_element.get_text(strip=True)\n",
        "\n",
        "            # Авторы\n",
        "            authors = []\n",
        "            author_elements = book.find_all('a', class_='results-author')\n",
        "            for author in author_elements:\n",
        "                authors.append(author.get_text(strip=True))\n",
        "            book_info['authors'] = authors if authors else None\n",
        "\n",
        "            # Оценка\n",
        "            rating_element = book.find('span', class_='stars')\n",
        "            if rating_element:\n",
        "                book_info['rating'] = rating_element.get_text(strip=True)\n",
        "\n",
        "            # Год публикации\n",
        "            year_element = book.find('span', class_='published-year')\n",
        "            if year_element:\n",
        "                book_info['year'] = year_element.get_text(strip=True)\n",
        "\n",
        "            # Ссылка на книгу\n",
        "            link_element = book.find('a', href=True)\n",
        "            if link_element:\n",
        "                book_info['url'] = urljoin(base_url, link_element['href'])\n",
        "\n",
        "            # Добавляем только те книги, у которых есть название\n",
        "            if 'title' in book_info:\n",
        "                books_data.append(book_info)\n",
        "\n",
        "    except requests.exceptions.RequestException as e:\n",
        "        print(f\"Ошибка при запросе к сайту: {e}\")\n",
        "    except Exception as e:\n",
        "        print(f\"Произошла ошибка: {e}\")\n",
        "\n",
        "    return books_data\n",
        "\n",
        "# Запускаем парсер и выводим результат\n",
        "if __name__ == \"__main__\":\n",
        "    sf_books = parse_openlibrary_sf_books()\n",
        "\n",
        "    # Выводим информацию о первых 3 книгах для примера\n",
        "    for i, book in enumerate(sf_books[:3], 1):\n",
        "        print(f\"\\nКнига #{i}:\")\n",
        "        print(f\"Название: {book.get('title', 'Нет данных')}\")\n",
        "        print(f\"Авторы: {', '.join(book.get('authors', ['Нет данных']))}\")\n",
        "        print(f\"Оценка: {book.get('rating', 'Нет данных')}\")\n",
        "        print(f\"Год: {book.get('year', 'Нет данных')}\")\n",
        "        print(f\"Ссылка: {book.get('url', 'Нет данных')}\")\n",
        "\n",
        "    print(f\"\\nВсего собрано книг: {len(sf_books)}\")"
      ],
      "metadata": {
        "colab": {
          "base_uri": "https://localhost:8080/"
        },
        "id": "Wr7LvVGxKR13",
        "outputId": "9ba7228b-3483-4313-dcaa-ff6d0d6554ec"
      },
      "execution_count": 2,
      "outputs": [
        {
          "output_type": "stream",
          "name": "stdout",
          "text": [
            "\n",
            "Всего собрано книг: 0\n"
          ]
        }
      ]
    },
    {
      "cell_type": "code",
      "source": [
        "import requests\n",
        "from bs4 import BeautifulSoup\n",
        "import csv\n",
        "\n",
        "# URL страницы с книгами (Fiction)\n",
        "url = \"https://books.toscrape.com/catalogue/category/books/fiction_10/index.html\"\n",
        "\n",
        "# Заголовки для CSV\n",
        "headers = [\"Title\", \"Price\", \"Rating\", \"Availability\"]\n",
        "\n",
        "# Получаем HTML-страницу\n",
        "response = requests.get(url)\n",
        "soup = BeautifulSoup(response.text, \"html.parser\")\n",
        "\n",
        "# Находим все книги на странице\n",
        "books = soup.find_all(\"article\", class_=\"product_pod\")\n",
        "\n",
        "# Открываем CSV для записи\n",
        "with open(\"books_fiction.csv\", \"w\", newline=\"\", encoding=\"utf-8\") as file:\n",
        "    writer = csv.writer(file)\n",
        "    writer.writerow(headers)  # Записываем заголовки\n",
        "\n",
        "    for book in books:\n",
        "        title = book.h3.a[\"title\"]\n",
        "        price = book.find(\"p\", class_=\"price_color\").text.strip(\"Â£\")\n",
        "        rating = book.p[\"class\"][1]  # Например, \"Three\" → 3/5\n",
        "        availability = book.find(\"p\", class_=\"instock availability\").text.strip()\n",
        "\n",
        "        writer.writerow([title, price, rating, availability])\n",
        "\n",
        "print(\"Данные успешно сохранены в books_fiction.csv!\")"
      ],
      "metadata": {
        "colab": {
          "base_uri": "https://localhost:8080/"
        },
        "id": "hKfYwUWNK-i4",
        "outputId": "1b71f19d-12c5-4c78-cabb-4a2f77be21f3"
      },
      "execution_count": 3,
      "outputs": [
        {
          "output_type": "stream",
          "name": "stdout",
          "text": [
            "Данные успешно сохранены в books_fiction.csv!\n"
          ]
        }
      ]
    }
  ]
}