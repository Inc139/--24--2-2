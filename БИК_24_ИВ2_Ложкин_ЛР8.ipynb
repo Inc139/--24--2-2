{
  "nbformat": 4,
  "nbformat_minor": 0,
  "metadata": {
    "colab": {
      "provenance": [],
      "authorship_tag": "ABX9TyNptlQiSZBrgff9b7XI8Z00",
      "include_colab_link": true
    },
    "kernelspec": {
      "name": "python3",
      "display_name": "Python 3"
    },
    "language_info": {
      "name": "python"
    }
  },
  "cells": [
    {
      "cell_type": "markdown",
      "metadata": {
        "id": "view-in-github",
        "colab_type": "text"
      },
      "source": [
        "<a href=\"https://colab.research.google.com/github/Inc139/--24--2-2/blob/main/%D0%91%D0%98%D0%9A_24_%D0%98%D0%922_%D0%9B%D0%BE%D0%B6%D0%BA%D0%B8%D0%BD_%D0%9B%D0%A08.ipynb\" target=\"_parent\"><img src=\"https://colab.research.google.com/assets/colab-badge.svg\" alt=\"Open In Colab\"/></a>"
      ]
    },
    {
      "cell_type": "code",
      "execution_count": 1,
      "metadata": {
        "colab": {
          "base_uri": "https://localhost:8080/"
        },
        "id": "kHJnpDSRav8j",
        "outputId": "148b8020-9034-40c3-b333-597237a4cbc7"
      },
      "outputs": [
        {
          "output_type": "stream",
          "name": "stdout",
          "text": [
            "Введите число p: 3\n",
            "[1, 2, 3]\n",
            "[4, 5, 6]\n",
            "[7, 8, 9]\n"
          ]
        }
      ],
      "source": [
        "def create_matrix(p):\n",
        "    num = 1\n",
        "    matrix = [[0 for _ in range(p)] for _ in range(p)]\n",
        "\n",
        "    for i in range(p):\n",
        "      for j in range(p):\n",
        "        matrix[i][j] = num\n",
        "        num +=1\n",
        "\n",
        "    return matrix\n",
        "\n",
        "p = int(input(\"Введите число p: \"))\n",
        "result_matrix = create_matrix(p)\n",
        "\n",
        "for row in result_matrix:\n",
        "  print(row)"
      ]
    },
    {
      "cell_type": "code",
      "source": [
        "import pandas as pd\n",
        "\n",
        "# Создаем DataFrame из данных\n",
        "data = {\n",
        "    'ФИО': ['Петров', 'Иванов', 'Сидорова'],\n",
        "    'Балл по программированию': [78, 56, 81],\n",
        "    'Балл по ОБЖ': [93, 67, 75],\n",
        "    'Балл по алгебре': [61, 73, 70]\n",
        "}\n",
        "\n",
        "df = pd.DataFrame(data)\n",
        "\n",
        "# Вычисляем средний балл по каждому предмету\n",
        "average_scores_subjects = df[['Балл по программированию', 'Балл по ОБЖ', 'Балл по алгебре']].mean()\n",
        "highest_average_subject = average_scores_subjects.idxmax()\n",
        "highest_average_score_subject = average_scores_subjects.max()\n",
        "\n",
        "# Вычисляем средний балл для каждого ученика\n",
        "df['Средний балл'] = df[['Балл по программированию', 'Балл по ОБЖ', 'Балл по алгебре']].mean(axis=1)\n",
        "highest_average_student = df.loc[df['Средний балл'].idxmax()]\n",
        "\n",
        "# Результаты\n",
        "print(f\"Самый высокий средний балл по предмету '{highest_average_subject}': {highest_average_score_subject}\")\n",
        "print(f\"Ученик с самым высоким средним баллом: {highest_average_student['ФИО']} - {highest_average_student['Средний балл']:.2f}\")"
      ],
      "metadata": {
        "colab": {
          "base_uri": "https://localhost:8080/"
        },
        "id": "7HkL7nvakfz3",
        "outputId": "b6ff1813-0d17-4f40-f063-392a6fc2d9b2"
      },
      "execution_count": 2,
      "outputs": [
        {
          "output_type": "stream",
          "name": "stdout",
          "text": [
            "Самый высокий средний балл по предмету 'Балл по ОБЖ': 78.33333333333333\n",
            "Ученик с самым высоким средним баллом: Петров - 77.33\n"
          ]
        }
      ]
    }
  ]
}