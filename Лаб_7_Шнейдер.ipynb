{
  "nbformat": 4,
  "nbformat_minor": 0,
  "metadata": {
    "colab": {
      "provenance": [],
      "authorship_tag": "ABX9TyOv5dzZgAhwj2tTRPgno7dm",
      "include_colab_link": true
    },
    "kernelspec": {
      "name": "python3",
      "display_name": "Python 3"
    },
    "language_info": {
      "name": "python"
    }
  },
  "cells": [
    {
      "cell_type": "markdown",
      "metadata": {
        "id": "view-in-github",
        "colab_type": "text"
      },
      "source": [
        "<a href=\"https://colab.research.google.com/github/Inc139/--24--2-2/blob/main/%D0%9B%D0%B0%D0%B1_7_%D0%A8%D0%BD%D0%B5%D0%B9%D0%B4%D0%B5%D1%80.ipynb\" target=\"_parent\"><img src=\"https://colab.research.google.com/assets/colab-badge.svg\" alt=\"Open In Colab\"/></a>"
      ]
    },
    {
      "cell_type": "code",
      "execution_count": 1,
      "metadata": {
        "colab": {
          "base_uri": "https://localhost:8080/"
        },
        "id": "0p3tnifJNXLk",
        "outputId": "ea8ae46c-b3a8-4bb2-93b5-bb4b53bf7597"
      },
      "outputs": [
        {
          "output_type": "stream",
          "name": "stdout",
          "text": [
            " Мартин ест\n",
            "Мартин издает звуки\n",
            "Мартин прыгает галлопом со скоростью 60 км/ч, показывая свои Вертикальные полосы\n",
            "Чижик летает\n",
            "Чижик мигрирует на расстоянии 1000 М\n",
            "Чижик поет с громкостью 70 Дб\n"
          ]
        }
      ],
      "source": [
        "class Animals:\n",
        "    def __init__(self, name, gender, age, specie):\n",
        "        self.name = name\n",
        "        self.gender = gender\n",
        "        self.age = age\n",
        "        self.specie = specie\n",
        "\n",
        "    def eat(self):\n",
        "        print(f\" {self.name} ест\")\n",
        "    def move(self):\n",
        "        print(f\"{self.name} передвигается\")\n",
        "    def sleep(self):\n",
        "        print(f\"{self.name} спит\")\n",
        "\n",
        "class Mammal(Animals):\n",
        "    def __init__(self, name, gender, age, specie, lur_l, lur_c):\n",
        "        super().__init__(name, gender, age, specie)\n",
        "        self.lur_l = lur_l\n",
        "        self.lur_c = lur_l\n",
        "\n",
        "    def feed_milk(self):\n",
        "        print(f\"{self.name} кормит молоком детёнышей\")\n",
        "\n",
        "class Birds(Animals):\n",
        "    def __init__(self, name, gender, age, specie, beak_s, wingspan):\n",
        "        super().__init__(name, gender, age, specie)\n",
        "        self.beak_s = beak_s\n",
        "        self.wingspan = wingspan\n",
        "\n",
        "    def fly(self):\n",
        "        print(f\"{self.name} летает\")\n",
        "    def build_nest(self):\n",
        "        print(f\"{self.name} вьет гнездо\")\n",
        "    def lay_eggs(self):\n",
        "        print(f\"{self.name} несёт яйца\")\n",
        "\n",
        "class Zebra(Mammal):\n",
        "    def __init__(self, name, gender, age, lur_l, lur_c, str_pattern, speed):\n",
        "        super().__init__(name, gender, age, \"Zebra\", lur_l, lur_c)\n",
        "        self.str_pattern = str_pattern\n",
        "        self.speed = speed\n",
        "\n",
        "    def voice(self):\n",
        "        print(f\"{self.name} издает звуки\")\n",
        "\n",
        "    def gallop(self):\n",
        "        print(f\"{self.name} прыгает галлопом со скоростью {self.speed} км/ч, показывая свои {self.str_pattern} полосы\")\n",
        "\n",
        "class Sparrow(Birds):\n",
        "    def __init__(self, name, gender, age, beak_s, wingspan, song_vol, migration_distance ):\n",
        "        super().__init__(name, gender, age, \"Sparrow\", beak_s, wingspan)\n",
        "        self.song_vol = song_vol\n",
        "        self.migration_distance = migration_distance\n",
        "\n",
        "    def migrate(self):\n",
        "        print(f\"{self.name} мигрирует на расстоянии {self.migration_distance} М\")\n",
        "    def sing(self):\n",
        "        print(f\"{self.name} поет с громкостью {self.song_vol} Дб\")\n",
        "\n",
        "zebra = Zebra(\"Мартин\", \"Самец\", 5, \"короткая\", \"бело-черная\", \"Вертикальные\", 60)\n",
        "sparrow = Sparrow(\"Чижик\", \"Самка\", 2, \"Маленький\", 20, 70, 1000)\n",
        "\n",
        "zebra.eat()\n",
        "zebra.voice()\n",
        "zebra.gallop()\n",
        "\n",
        "sparrow.fly()\n",
        "sparrow.migrate()\n",
        "sparrow.sing()"
      ]
    },
    {
      "cell_type": "code",
      "source": [],
      "metadata": {
        "id": "vKcOkPFnNgRJ"
      },
      "execution_count": null,
      "outputs": []
    }
  ]
}