{
  "nbformat": 4,
  "nbformat_minor": 0,
  "metadata": {
    "colab": {
      "provenance": [],
      "authorship_tag": "ABX9TyNqXrE63E0wew6EsA9dMJ9D",
      "include_colab_link": true
    },
    "kernelspec": {
      "name": "python3",
      "display_name": "Python 3"
    },
    "language_info": {
      "name": "python"
    }
  },
  "cells": [
    {
      "cell_type": "markdown",
      "metadata": {
        "id": "view-in-github",
        "colab_type": "text"
      },
      "source": [
        "<a href=\"https://colab.research.google.com/github/Inc139/--24--2-2/blob/main/%D0%9B%D0%BE%D0%B6%D0%BA%D0%B8%D0%BD_%D0%91%D0%98%D0%9A_24_%D0%98%D0%922_%D0%9B%D0%A03.ipynb\" target=\"_parent\"><img src=\"https://colab.research.google.com/assets/colab-badge.svg\" alt=\"Open In Colab\"/></a>"
      ]
    },
    {
      "cell_type": "code",
      "execution_count": 8,
      "metadata": {
        "colab": {
          "base_uri": "https://localhost:8080/"
        },
        "id": "2qq0WeDFJhwJ",
        "outputId": "8d392583-fa60-4b5c-9c34-98a93579a28c"
      },
      "outputs": [
        {
          "output_type": "stream",
          "name": "stdout",
          "text": [
            "3, 4, 4, 3\n"
          ]
        }
      ],
      "source": [
        "input = \"абв, абвг, вбгд, абд\"\n",
        "parts = input_string.split(\", \")\n",
        "lengths = [len(part) for part in parts]\n",
        "print(\", \".join(map(str, lengths)))"
      ]
    },
    {
      "cell_type": "code",
      "source": [],
      "metadata": {
        "id": "DeSq4alSObrh"
      },
      "execution_count": null,
      "outputs": []
    }
  ]
}