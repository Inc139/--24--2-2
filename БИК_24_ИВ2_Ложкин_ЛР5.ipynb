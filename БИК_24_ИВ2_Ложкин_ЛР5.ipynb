{
  "nbformat": 4,
  "nbformat_minor": 0,
  "metadata": {
    "colab": {
      "provenance": [],
      "authorship_tag": "ABX9TyPQrShoRk0Fk8H80pK2n7r4",
      "include_colab_link": true
    },
    "kernelspec": {
      "name": "python3",
      "display_name": "Python 3"
    },
    "language_info": {
      "name": "python"
    }
  },
  "cells": [
    {
      "cell_type": "markdown",
      "metadata": {
        "id": "view-in-github",
        "colab_type": "text"
      },
      "source": [
        "<a href=\"https://colab.research.google.com/github/Inc139/--24--2-2/blob/main/%D0%91%D0%98%D0%9A_24_%D0%98%D0%922_%D0%9B%D0%BE%D0%B6%D0%BA%D0%B8%D0%BD_%D0%9B%D0%A05.ipynb\" target=\"_parent\"><img src=\"https://colab.research.google.com/assets/colab-badge.svg\" alt=\"Open In Colab\"/></a>"
      ]
    },
    {
      "cell_type": "markdown",
      "source": [
        "1"
      ],
      "metadata": {
        "id": "_mzdywy2XJ7m"
      }
    },
    {
      "cell_type": "code",
      "source": [
        "from ast import main\n",
        "arr = []\n",
        "while True:\n",
        "  f = float(input())\n",
        "  if f == 0:\n",
        "    break\n",
        "\n",
        "if 2 < f < 5:\n",
        "  arr.append(f)\n",
        "print(\"dannie\", arr)"
      ],
      "metadata": {
        "id": "wfUvX_5xakPZ"
      },
      "execution_count": null,
      "outputs": []
    },
    {
      "cell_type": "markdown",
      "source": [
        "2\n"
      ],
      "metadata": {
        "id": "VV6qCKv9avYF"
      }
    },
    {
      "cell_type": "code",
      "source": [
        "from ast import main\n",
        "arr = []\n",
        "while True:\n",
        "  f = float(input())\n",
        "  if f == 0:\n",
        "    break\n",
        "arr.append(f)\n",
        "if len(arr) == 0:\n",
        "  print(\"-\")\n",
        "else:\n",
        "  average = sun(f)|len(f)\n",
        "  print(\"srednee f\", average)"
      ],
      "metadata": {
        "id": "yPO683syawiB"
      },
      "execution_count": null,
      "outputs": []
    }
  ]
}