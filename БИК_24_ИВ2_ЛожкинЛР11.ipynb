{
  "nbformat": 4,
  "nbformat_minor": 0,
  "metadata": {
    "colab": {
      "provenance": [],
      "authorship_tag": "ABX9TyMG2Xl2qJ+v6QwzTsuxFTJU",
      "include_colab_link": true
    },
    "kernelspec": {
      "name": "python3",
      "display_name": "Python 3"
    },
    "language_info": {
      "name": "python"
    }
  },
  "cells": [
    {
      "cell_type": "markdown",
      "metadata": {
        "id": "view-in-github",
        "colab_type": "text"
      },
      "source": [
        "<a href=\"https://colab.research.google.com/github/Inc139/--24--2-2/blob/main/%D0%91%D0%98%D0%9A_24_%D0%98%D0%922_%D0%9B%D0%BE%D0%B6%D0%BA%D0%B8%D0%BD%D0%9B%D0%A011.ipynb\" target=\"_parent\"><img src=\"https://colab.research.google.com/assets/colab-badge.svg\" alt=\"Open In Colab\"/></a>"
      ]
    },
    {
      "cell_type": "code",
      "execution_count": 2,
      "metadata": {
        "colab": {
          "base_uri": "https://localhost:8080/"
        },
        "id": "gG7rNq76i4SO",
        "outputId": "6386b04c-6eae-47b2-f805-5987a7474f28"
      },
      "outputs": [
        {
          "output_type": "stream",
          "name": "stdout",
          "text": [
            "Введите число (0 для завершения): 0\n",
            "Сумма введенных чисел: 0\n"
          ]
        }
      ],
      "source": [
        "def sum_numbers():\n",
        "    total = 0\n",
        "    while True:\n",
        "        number = int(input(\"Введите число (0 для завершения): \"))\n",
        "        if number == 0:\n",
        "            break\n",
        "        total += number\n",
        "    return total\n",
        "\n",
        "result = sum_numbers()\n",
        "print(\"Сумма введенных чисел:\", result)"
      ]
    }
  ]
}