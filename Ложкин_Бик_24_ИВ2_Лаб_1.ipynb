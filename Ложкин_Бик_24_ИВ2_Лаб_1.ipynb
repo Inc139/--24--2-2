{
  "nbformat": 4,
  "nbformat_minor": 0,
  "metadata": {
    "colab": {
      "provenance": [],
      "authorship_tag": "ABX9TyMauzhvW43YqzFyNl1NGwNS",
      "include_colab_link": true
    },
    "kernelspec": {
      "name": "python3",
      "display_name": "Python 3"
    },
    "language_info": {
      "name": "python"
    }
  },
  "cells": [
    {
      "cell_type": "markdown",
      "metadata": {
        "id": "view-in-github",
        "colab_type": "text"
      },
      "source": [
        "<a href=\"https://colab.research.google.com/github/Inc139/--24--2-2/blob/main/%D0%9B%D0%BE%D0%B6%D0%BA%D0%B8%D0%BD_%D0%91%D0%B8%D0%BA_24_%D0%98%D0%922_%D0%9B%D0%B0%D0%B1_1.ipynb\" target=\"_parent\"><img src=\"https://colab.research.google.com/assets/colab-badge.svg\" alt=\"Open In Colab\"/></a>"
      ]
    },
    {
      "cell_type": "markdown",
      "source": [
        "1"
      ],
      "metadata": {
        "id": "SQkKVz8K9Rh1"
      }
    },
    {
      "cell_type": "code",
      "source": [
        "имя = input(\"Введите ваше имя: \")\n",
        "возраст = input(\"Введите ваш возраст: \")\n",
        "рост = input(\"Введите ваш рост в сантиметрах: \")\n",
        "\n",
        "print(f\"Привет, {имя}! Тебе {возраст} лет, и твой рост — {рост} см.\")"
      ],
      "metadata": {
        "colab": {
          "base_uri": "https://localhost:8080/"
        },
        "id": "zUXuEFv-9TEl",
        "outputId": "5783d7ee-9f85-4b0b-c563-b60fa5c8863b"
      },
      "execution_count": 1,
      "outputs": [
        {
          "output_type": "stream",
          "name": "stdout",
          "text": [
            "Введите ваше имя: Daniil\n",
            "Введите ваш возраст: 18\n",
            "Введите ваш рост в сантиметрах: 195\n",
            "Привет, Daniil! Тебе 18 лет, и твой рост — 195 см.\n"
          ]
        }
      ]
    },
    {
      "cell_type": "markdown",
      "source": [
        "2"
      ],
      "metadata": {
        "id": "hhb7slWH9TPd"
      }
    },
    {
      "cell_type": "code",
      "source": [
        "число = int(input(\"Введите целое число: \"))\n",
        "\n",
        "if число % 2 == 0:\n",
        "    четность = \"четное\"\n",
        "else:\n",
        "    четность = \"нечетное\"\n",
        "\n",
        "if число > 0:\n",
        "    знак = \"положительное\"\n",
        "elif число < 0:\n",
        "    знак = \"отрицательное\"\n",
        "else:\n",
        "    знак = \"ноль\"\n",
        "\n",
        "print(f\"Число {число} является {четность} и {знак}.\")"
      ],
      "metadata": {
        "colab": {
          "base_uri": "https://localhost:8080/"
        },
        "id": "PFDiWcbS9TZU",
        "outputId": "cabfcb39-fabf-4655-e41b-935949ba7a64"
      },
      "execution_count": 2,
      "outputs": [
        {
          "output_type": "stream",
          "name": "stdout",
          "text": [
            "Введите целое число: 3\n",
            "Число 3 является нечетное и положительное.\n"
          ]
        }
      ]
    },
    {
      "cell_type": "markdown",
      "source": [
        "3"
      ],
      "metadata": {
        "id": "nOfI-X0_9TkR"
      }
    },
    {
      "cell_type": "code",
      "source": [
        "числа = []\n",
        "for _ in range(5):\n",
        "    число = float(input(\"Введите число: \"))\n",
        "    числа.append(число)\n",
        "\n",
        "сумма = sum(числа)\n",
        "наибольшее = max(числа)\n",
        "наименьшее = min(числа)\n",
        "\n",
        "print(f\"Сумма: {сумма}, Наибольшее число: {наибольшее}, Наименьшее число: {наименьшее}.\")"
      ],
      "metadata": {
        "colab": {
          "base_uri": "https://localhost:8080/"
        },
        "id": "TCJWRuke9TwV",
        "outputId": "b56497ae-4146-4020-e835-70062715134c"
      },
      "execution_count": 4,
      "outputs": [
        {
          "output_type": "stream",
          "name": "stdout",
          "text": [
            "Введите число: 1\n",
            "Введите число: 2\n",
            "Введите число: 3\n",
            "Введите число: 4\n",
            "Введите число: 5\n",
            "Сумма: 15.0, Наибольшее число: 5.0, Наименьшее число: 1.0.\n"
          ]
        }
      ]
    },
    {
      "cell_type": "markdown",
      "source": [
        "4"
      ],
      "metadata": {
        "id": "HE4z1vn89T7W"
      }
    },
    {
      "cell_type": "code",
      "source": [
        "def sum_of_evens(numbers):\n",
        "    return sum(num for num in numbers if num % 2 == 0)\n",
        "\n",
        "result = sum_of_evens([1, 2, 3, 4, 5, 6])\n",
        "print(result)"
      ],
      "metadata": {
        "colab": {
          "base_uri": "https://localhost:8080/"
        },
        "id": "Ayzbw-IR9UHr",
        "outputId": "260bdb0c-11e4-4396-a7b4-f41b29913e47"
      },
      "execution_count": 5,
      "outputs": [
        {
          "output_type": "stream",
          "name": "stdout",
          "text": [
            "12\n"
          ]
        }
      ]
    },
    {
      "cell_type": "markdown",
      "source": [
        "5"
      ],
      "metadata": {
        "id": "uBf51gJw9UT6"
      }
    },
    {
      "cell_type": "code",
      "source": [
        "def generate_squares(n):\n",
        "    return [i ** 2 for i in range(1, n + 1)]\n",
        "\n",
        "result = generate_squares(5)\n",
        "print(result)"
      ],
      "metadata": {
        "colab": {
          "base_uri": "https://localhost:8080/"
        },
        "id": "tVpvRu0C9Ude",
        "outputId": "095d53d6-87ef-4f28-c5d7-77d73343d749"
      },
      "execution_count": 6,
      "outputs": [
        {
          "output_type": "stream",
          "name": "stdout",
          "text": [
            "[1, 4, 9, 16, 25]\n"
          ]
        }
      ]
    },
    {
      "cell_type": "markdown",
      "source": [
        "6"
      ],
      "metadata": {
        "id": "O4Oums1a9Une"
      }
    },
    {
      "cell_type": "code",
      "source": [
        "def filter_noise(signal, threshold):\n",
        "    return [value for value in signal if abs(value) >= threshold]\n",
        "\n",
        "result = filter_noise([0.1, 0.5, -0.3, 0.8, -0.9, 0.2], 0.4)\n",
        "print(result)"
      ],
      "metadata": {
        "colab": {
          "base_uri": "https://localhost:8080/"
        },
        "id": "evpdPt5G9UwT",
        "outputId": "a8012374-2f77-41ee-d032-5a3642ea2722"
      },
      "execution_count": 7,
      "outputs": [
        {
          "output_type": "stream",
          "name": "stdout",
          "text": [
            "[0.5, 0.8, -0.9]\n"
          ]
        }
      ]
    },
    {
      "cell_type": "markdown",
      "source": [
        "7"
      ],
      "metadata": {
        "id": "2uSr10K39WSI"
      }
    },
    {
      "cell_type": "code",
      "source": [
        "def normalize_signal(signal):\n",
        "    max_magnitude = max(abs(value) for value in signal)\n",
        "    return [value / max_magnitude for value in signal]\n",
        "\n",
        "result = normalize_signal([2, -4, 6, -8, 10])\n",
        "print(result)"
      ],
      "metadata": {
        "colab": {
          "base_uri": "https://localhost:8080/"
        },
        "id": "LMynDA-e9WbT",
        "outputId": "c11514ae-0ad5-4e56-d30a-4b1d358b2d29"
      },
      "execution_count": 8,
      "outputs": [
        {
          "output_type": "stream",
          "name": "stdout",
          "text": [
            "[0.2, -0.4, 0.6, -0.8, 1.0]\n"
          ]
        }
      ]
    }
  ]
}