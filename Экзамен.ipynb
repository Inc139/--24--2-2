{
  "nbformat": 4,
  "nbformat_minor": 0,
  "metadata": {
    "colab": {
      "provenance": [],
      "authorship_tag": "ABX9TyM7reziIv/J8HtyVcin5G1p",
      "include_colab_link": true
    },
    "kernelspec": {
      "name": "python3",
      "display_name": "Python 3"
    },
    "language_info": {
      "name": "python"
    }
  },
  "cells": [
    {
      "cell_type": "markdown",
      "metadata": {
        "id": "view-in-github",
        "colab_type": "text"
      },
      "source": [
        "<a href=\"https://colab.research.google.com/github/Inc139/--24--2-2/blob/main/%D0%AD%D0%BA%D0%B7%D0%B0%D0%BC%D0%B5%D0%BD.ipynb\" target=\"_parent\"><img src=\"https://colab.research.google.com/assets/colab-badge.svg\" alt=\"Open In Colab\"/></a>"
      ]
    },
    {
      "cell_type": "code",
      "execution_count": 2,
      "metadata": {
        "colab": {
          "base_uri": "https://localhost:8080/"
        },
        "id": "WADpnpIKLVg6",
        "outputId": "4ef35f73-8aee-417a-d112-2a5fab4c25d3"
      },
      "outputs": [
        {
          "output_type": "stream",
          "name": "stdout",
          "text": [
            "\n",
            "Ассортимент магазина 'Пятерочка':\n",
            "Товар                Цена       Количество\n",
            "----------------------------------------\n",
            "Хлеб                 50.00      10        \n",
            "Молоко               80.00      5         \n",
            "Яйца                 120.00     3         \n",
            "\n",
            "Куплено 2 хлеба. Сумма: 100.00 руб.\n",
            "Куплено 3 яйца. Сумма: 360.00 руб.\n",
            "\n",
            "Ассортимент магазина 'Пятерочка':\n",
            "Товар                Цена       Количество\n",
            "----------------------------------------\n",
            "Хлеб                 50.00      8         \n",
            "Молоко               80.00      5         \n",
            "\n",
            "Ошибка: Товар 'Колбаса' отсутствует в магазине\n"
          ]
        }
      ],
      "source": [
        "class Shop:\n",
        "    def __init__(self, name: str):\n",
        "        self._name = name\n",
        "        self._inventory = {}  # {товар: {'price': цена, 'quantity': количество}}\n",
        "\n",
        "    @property\n",
        "    def name(self) -> str:\n",
        "        \"\"\"Название магазина\"\"\"\n",
        "        return self._name\n",
        "\n",
        "    @property\n",
        "    def inventory(self) -> dict:\n",
        "        \"\"\"Текущий ассортимент (только для чтения)\"\"\"\n",
        "        return self._inventory.copy()\n",
        "\n",
        "    def add_product(self, product_name: str, price: float, quantity: int = 1) -> None:\n",
        "        \"\"\"Добавить товар в магазин\"\"\"\n",
        "        if price <= 0:\n",
        "            raise ValueError(\"Цена должна быть положительной\")\n",
        "        if quantity <= 0:\n",
        "            raise ValueError(\"Количество должно быть положительным\")\n",
        "\n",
        "        if product_name in self._inventory:\n",
        "            self._inventory[product_name]['quantity'] += quantity\n",
        "        else:\n",
        "            self._inventory[product_name] = {'price': price, 'quantity': quantity}\n",
        "\n",
        "    def buy_product(self, product_name: str, quantity: int = 1) -> float:\n",
        "        \"\"\"Купить товар и вернуть сумму покупки\"\"\"\n",
        "        if product_name not in self._inventory:\n",
        "            raise ValueError(f\"Товар '{product_name}' отсутствует в магазине\")\n",
        "        if quantity <= 0:\n",
        "            raise ValueError(\"Количество должно быть положительным\")\n",
        "        if self._inventory[product_name]['quantity'] < quantity:\n",
        "            raise ValueError(f\"Недостаточно товара '{product_name}'\")\n",
        "\n",
        "        # Уменьшаем количество и рассчитываем сумму\n",
        "        self._inventory[product_name]['quantity'] -= quantity\n",
        "        total_price = self._inventory[product_name]['price'] * quantity\n",
        "\n",
        "        # Удаляем товар если закончился\n",
        "        if self._inventory[product_name]['quantity'] == 0:\n",
        "            del self._inventory[product_name]\n",
        "\n",
        "        return total_price\n",
        "\n",
        "    def view_inventory(self) -> None:\n",
        "        \"\"\"Показать текущий ассортимент\"\"\"\n",
        "        if not self._inventory:\n",
        "            print(\"Магазин пуст\")\n",
        "            return\n",
        "\n",
        "        print(f\"\\nАссортимент магазина '{self.name}':\")\n",
        "        print(\"{:<20} {:<10} {:<10}\".format(\"Товар\", \"Цена\", \"Количество\"))\n",
        "        print(\"-\" * 40)\n",
        "        for product, info in self._inventory.items():\n",
        "            print(\"{:<20} {:<10.2f} {:<10}\".format(\n",
        "                product, info['price'], info['quantity']))\n",
        "\n",
        "    def get_product_info(self, product_name: str) -> dict:\n",
        "        \"\"\"Получить информацию о товаре\"\"\"\n",
        "        if product_name not in self._inventory:\n",
        "            raise ValueError(f\"Товар '{product_name}' отсутствует\")\n",
        "        return self._inventory[product_name].copy()\n",
        "# Создаем магазин\n",
        "my_shop = Shop(\"Пятерочка\")\n",
        "\n",
        "# Добавляем товары\n",
        "my_shop.add_product(\"Хлеб\", 50.0, 10)\n",
        "my_shop.add_product(\"Молоко\", 80.0, 5)\n",
        "my_shop.add_product(\"Яйца\", 120.0, 3)\n",
        "\n",
        "# Смотрим ассортимент\n",
        "my_shop.view_inventory()\n",
        "\n",
        "# Покупаем товары\n",
        "try:\n",
        "    total = my_shop.buy_product(\"Хлеб\", 2)\n",
        "    print(f\"\\nКуплено 2 хлеба. Сумма: {total:.2f} руб.\")\n",
        "\n",
        "    total = my_shop.buy_product(\"Яйца\", 3)\n",
        "    print(f\"Куплено 3 яйца. Сумма: {total:.2f} руб.\")\n",
        "except ValueError as e:\n",
        "    print(f\"Ошибка: {e}\")\n",
        "\n",
        "# Смотрим обновленный ассортимент\n",
        "my_shop.view_inventory()\n",
        "\n",
        "# Пытаемся купить отсутствующий товар\n",
        "try:\n",
        "    my_shop.buy_product(\"Колбаса\")\n",
        "except ValueError as e:\n",
        "    print(f\"\\nОшибка: {e}\")"
      ]
    }
  ]
}