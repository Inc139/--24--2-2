{
  "nbformat": 4,
  "nbformat_minor": 0,
  "metadata": {
    "colab": {
      "provenance": [],
      "authorship_tag": "ABX9TyPb1TqMAbCVn96/eq9KI43h",
      "include_colab_link": true
    },
    "kernelspec": {
      "name": "python3",
      "display_name": "Python 3"
    },
    "language_info": {
      "name": "python"
    }
  },
  "cells": [
    {
      "cell_type": "markdown",
      "metadata": {
        "id": "view-in-github",
        "colab_type": "text"
      },
      "source": [
        "<a href=\"https://colab.research.google.com/github/Inc139/--24--2-2/blob/main/%D0%91%D0%98%D0%9A_24_%D0%98%D0%922_%D0%9B%D0%BE%D0%B6%D0%BA%D0%B8%D0%BD_%D0%9B%D0%A04.ipynb\" target=\"_parent\"><img src=\"https://colab.research.google.com/assets/colab-badge.svg\" alt=\"Open In Colab\"/></a>"
      ]
    },
    {
      "cell_type": "code",
      "source": [
        "a = int(input())\n",
        "match a:\n",
        "  case 405:\n",
        "    print(\"otvet kakashka\")\n",
        "  case 404:\n",
        "    print(\"otvet noclass\")\n",
        "  case 403:\n",
        "    print(\"otvet loh\")\n",
        "  case 402:\n",
        "    print(\"otvet net\")\n",
        "  case 401:\n",
        "    print(\"otvet fu\")\n",
        "  case _:\n",
        "    print(\"kakashka\")"
      ],
      "metadata": {
        "colab": {
          "base_uri": "https://localhost:8080/"
        },
        "id": "maCMqrf_OD09",
        "outputId": "a26ad55f-6dc6-449f-f8ba-006cbd766e3b"
      },
      "execution_count": 2,
      "outputs": [
        {
          "output_type": "stream",
          "name": "stdout",
          "text": [
            "500\n",
            "kakashka\n"
          ]
        }
      ]
    },
    {
      "cell_type": "code",
      "source": [
        "a = int(input())\n",
        "c = int(input())\n",
        "if (a > 0 and c > 0):\n",
        "  print(\"tochka v 1 chetverty\")\n",
        "if (a < 0 and c > 0):\n",
        "  print(\"tochka vo 2 chetverty\")\n",
        "if (a < 0 and c < 0):\n",
        "  print(\"tochka v 3 chetverty\")\n",
        "if (a > 0 and c < 0):\n",
        "  print(\"vvedite chislo\")"
      ],
      "metadata": {
        "colab": {
          "base_uri": "https://localhost:8080/"
        },
        "id": "K6U9IujoRRvP",
        "outputId": "89155f30-f4eb-45ea-dece-97d85de8b759"
      },
      "execution_count": 3,
      "outputs": [
        {
          "output_type": "stream",
          "name": "stdout",
          "text": [
            "15\n",
            "16\n",
            "tochka v 1 chetverty\n"
          ]
        }
      ]
    },
    {
      "cell_type": "code",
      "source": [
        " a = int(input())\n",
        " if (a % 4 != 0):\n",
        "  print(\"god ne visokosnii\")\n",
        "elif(a % 100 ==0 and a % 400 == 0):\n",
        "  print(\"god visokosnii\")\n",
        "else:\n",
        "  print(\"god visokosnii\")"
      ],
      "metadata": {
        "colab": {
          "base_uri": "https://localhost:8080/"
        },
        "id": "OG3-aZTYVX-1",
        "outputId": "3d2e640e-5926-4d61-b70a-916f96b56c3c"
      },
      "execution_count": 4,
      "outputs": [
        {
          "output_type": "stream",
          "name": "stdout",
          "text": [
            "2024\n",
            "god visokosnii\n"
          ]
        }
      ]
    }
  ]
}