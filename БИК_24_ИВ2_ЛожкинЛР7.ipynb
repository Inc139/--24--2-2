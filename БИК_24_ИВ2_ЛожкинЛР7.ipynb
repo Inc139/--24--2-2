{
  "nbformat": 4,
  "nbformat_minor": 0,
  "metadata": {
    "colab": {
      "provenance": [],
      "authorship_tag": "ABX9TyNbAqHfPPT+djSx0t1RI/n2",
      "include_colab_link": true
    },
    "kernelspec": {
      "name": "python3",
      "display_name": "Python 3"
    },
    "language_info": {
      "name": "python"
    }
  },
  "cells": [
    {
      "cell_type": "markdown",
      "metadata": {
        "id": "view-in-github",
        "colab_type": "text"
      },
      "source": [
        "<a href=\"https://colab.research.google.com/github/Inc139/--24--2-2/blob/main/%D0%91%D0%98%D0%9A_24_%D0%98%D0%922_%D0%9B%D0%BE%D0%B6%D0%BA%D0%B8%D0%BD%D0%9B%D0%A07.ipynb\" target=\"_parent\"><img src=\"https://colab.research.google.com/assets/colab-badge.svg\" alt=\"Open In Colab\"/></a>"
      ]
    },
    {
      "cell_type": "code",
      "execution_count": 1,
      "metadata": {
        "colab": {
          "base_uri": "https://localhost:8080/"
        },
        "id": "jISQwwpkZSw0",
        "outputId": "b0ee0770-5119-4c9d-d4ea-1d04dc80380a"
      },
      "outputs": [
        {
          "output_type": "stream",
          "name": "stdout",
          "text": [
            "Numbers: [1, 2, 3, 4, 5, 6, 7, 8, 9, 10]\n",
            "squares: [1, 4, 9, 16, 25, 36, 49, 64, 81, 100]\n",
            "Cubes: [1, 8, 27, 64, 125, 216, 343, 512, 729, 1000]\n"
          ]
        }
      ],
      "source": [
        "numbers = []\n",
        "squares = []\n",
        "cubes = []\n",
        "\n",
        "for i in range(1,11):\n",
        "  numbers.append(i)\n",
        "  squares.append(i**2)\n",
        "  cubes.append(i**3)\n",
        "\n",
        "print(\"Numbers:\", numbers)\n",
        "print(\"squares:\", squares)\n",
        "print(\"Cubes:\", cubes)"
      ]
    },
    {
      "cell_type": "code",
      "source": [
        "numbers = []\n",
        "\n",
        "while True:\n",
        "  num = int(input(\"Vvedite chislo(dlya zaversheniya vvedite 0):\"))\n",
        "  if num == 0:\n",
        "    break\n",
        "  numbers.append(num)\n",
        "\n",
        "if numbers:\n",
        "  min_value = min(numbers)\n",
        "  print(f\"мин знач: {min_value}\")\n",
        "\n",
        "  max_value = max(numbers)\n",
        "  print(f\"макс знач: {max_value}\")\n",
        "\n",
        "  sorted_asc = sorted(numbers)\n",
        "  print(f\"по возвр: {sorted_asc}\")\n",
        "\n",
        "  sorted_desc = sorted(numbers, reverse=True)\n",
        "  print(f\"по убыв: {sorted_desc}\")\n",
        "\n",
        "  count = len(numbers)\n",
        "  print(f\"колво элементов: {count}\")\n",
        "\n",
        "  count_ones = numbers.count(1)\n",
        "  print(f\"колво 1: {count_ones}\")\n",
        "\n",
        "  total_sum = sum(numbers)\n",
        "  print(f\"сумма всех чисел\")\n",
        "\n",
        "  last_value = numbers[-1]\n",
        "  last_index = len(numbers) -1\n",
        "  print(f\"Индекс последнего введного элемента: {last_index}, значение: {last_value}\")\n",
        "else:\n",
        "  print(\"Список пуст\")\n",
        "\n",
        "\n"
      ],
      "metadata": {
        "colab": {
          "base_uri": "https://localhost:8080/"
        },
        "id": "tbYjKa-ZcxnX",
        "outputId": "3065bac3-6806-4e70-c1e2-5b663822e19d"
      },
      "execution_count": 5,
      "outputs": [
        {
          "output_type": "stream",
          "name": "stdout",
          "text": [
            "Vvedite chislo(dlya zaversheniya vvedite 0):1\n",
            "Vvedite chislo(dlya zaversheniya vvedite 0):2\n",
            "Vvedite chislo(dlya zaversheniya vvedite 0):0\n",
            "мин знач: 1\n",
            "макс знач: 2\n",
            "по возвр: [1, 2]\n",
            "по убыв: [2, 1]\n",
            "колво элементов: 2\n",
            "колво 1: 1\n",
            "сумма всех чисел\n",
            "Индекс последнего введного элемента: 1, значение: 2\n"
          ]
        }
      ]
    },
    {
      "cell_type": "code",
      "source": [
        "lst = []\n",
        "\n",
        "while True:\n",
        "  num = int(input(\"Введите число: \"))\n",
        "\n",
        "  if num == 0:\n",
        "    break\n",
        "  if num % 2 == 0:\n",
        "     lst.append(num)\n",
        "\n",
        "arr = [x for x in lst if x % 10 != 0]\n",
        "print(\"Список пуст:\", lst)"
      ],
      "metadata": {
        "colab": {
          "base_uri": "https://localhost:8080/"
        },
        "id": "FGgwdpXrf0PG",
        "outputId": "f0a8fae9-1a2a-46a5-cd37-3e57e57067c6"
      },
      "execution_count": 6,
      "outputs": [
        {
          "output_type": "stream",
          "name": "stdout",
          "text": [
            "Введите число: 1\n",
            "Введите число: 2\n",
            "Введите число: 6\n",
            "Введите число: 7\n",
            "Введите число: 0\n",
            "Список пуст: [2, 6]\n"
          ]
        }
      ]
    }
  ]
}