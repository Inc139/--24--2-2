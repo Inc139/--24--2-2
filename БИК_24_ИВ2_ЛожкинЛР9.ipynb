{
  "nbformat": 4,
  "nbformat_minor": 0,
  "metadata": {
    "colab": {
      "provenance": [],
      "authorship_tag": "ABX9TyNFUPN4/HwCDB0+FRNdwBih",
      "include_colab_link": true
    },
    "kernelspec": {
      "name": "python3",
      "display_name": "Python 3"
    },
    "language_info": {
      "name": "python"
    }
  },
  "cells": [
    {
      "cell_type": "markdown",
      "metadata": {
        "id": "view-in-github",
        "colab_type": "text"
      },
      "source": [
        "<a href=\"https://colab.research.google.com/github/Inc139/--24--2-2/blob/main/%D0%91%D0%98%D0%9A_24_%D0%98%D0%922_%D0%9B%D0%BE%D0%B6%D0%BA%D0%B8%D0%BD%D0%9B%D0%A09.ipynb\" target=\"_parent\"><img src=\"https://colab.research.google.com/assets/colab-badge.svg\" alt=\"Open In Colab\"/></a>"
      ]
    },
    {
      "cell_type": "markdown",
      "source": [
        "1.1"
      ],
      "metadata": {
        "id": "gmAxtAcWq_bE"
      }
    },
    {
      "cell_type": "code",
      "execution_count": 1,
      "metadata": {
        "colab": {
          "base_uri": "https://localhost:8080/"
        },
        "id": "dK8bBnapgdba",
        "outputId": "9570c4f3-f9c9-4d16-ae0b-33c72a899d0a"
      },
      "outputs": [
        {
          "output_type": "stream",
          "name": "stdout",
          "text": [
            "Введите число (0 для завершения): 4\n",
            "Введите число (0 для завершения): 5\n",
            "Введите число (0 для завершения): 464664\n",
            "Введите число (0 для завершения): 9898\n",
            "Введите число (0 для завершения): 0\n",
            "{4: 1, 5: 1, 464664: 1, 9898: 1}\n"
          ]
        }
      ],
      "source": [
        "def count_numbers():\n",
        "    number_count = {}\n",
        "\n",
        "    while True:\n",
        "        number = int(input(\"Введите число (0 для завершения): \"))\n",
        "        if number == 0:\n",
        "            break\n",
        "        if number in number_count:\n",
        "            number_count[number] += 1\n",
        "        else:\n",
        "            number_count[number] = 1\n",
        "\n",
        "    return number_count\n",
        "\n",
        "result = count_numbers()\n",
        "print(result)"
      ]
    },
    {
      "cell_type": "markdown",
      "source": [
        "1.2"
      ],
      "metadata": {
        "id": "jStE7eYGrJMu"
      }
    },
    {
      "cell_type": "code",
      "source": [
        "def unique_numbers():\n",
        "    numbers = []\n",
        "    while True:\n",
        "        num = int(input(\"Введите число (0 для завершения ввода): \"))\n",
        "        if num == 0:\n",
        "            break\n",
        "        numbers.append(num)\n",
        "\n",
        "    unique_values = list(set(numbers))\n",
        "    return unique_values\n",
        "\n",
        "result = unique_numbers()\n",
        "print(\"Список уникальных значений:\", result)"
      ],
      "metadata": {
        "colab": {
          "base_uri": "https://localhost:8080/"
        },
        "id": "sVdGSqswqq9-",
        "outputId": "014d65c4-a08b-40c9-ae99-da8b84db53c9"
      },
      "execution_count": 2,
      "outputs": [
        {
          "output_type": "stream",
          "name": "stdout",
          "text": [
            "Введите число (0 для завершения ввода): 8998\n",
            "Введите число (0 для завершения ввода): 8998\n",
            "Введите число (0 для завершения ввода): 0\n",
            "Список уникальных значений: [8998]\n"
          ]
        }
      ]
    },
    {
      "cell_type": "markdown",
      "source": [
        "2.1"
      ],
      "metadata": {
        "id": "1rNsw1alrNIE"
      }
    },
    {
      "cell_type": "code",
      "source": [
        "def phone_book():\n",
        "    book = {}\n",
        "\n",
        "    while True:\n",
        "        print(\"\\nЭлектронная телефонная книга\")\n",
        "        print(\"1. Добавить новую запись\")\n",
        "        print(\"2. Выход\")\n",
        "        choice = input(\"Выберите действие: \")\n",
        "\n",
        "        if choice == '1':\n",
        "            name = input(\"Введите имя: \")\n",
        "            phone_number = input(\"Введите номер телефона: \")\n",
        "            book[name] = phone_number\n",
        "            print(f\"Запись добавлена: {name} - {phone_number}\")\n",
        "\n",
        "        elif choice == '2':\n",
        "            print(\"Выход из телефонной книги.\")\n",
        "            break\n",
        "        else:\n",
        "            print(\"Неверный выбор. Пожалуйста, попробуйте снова.\")\n",
        "\n",
        "    return book\n",
        "\n",
        "# Запуск телефонной книги\n",
        "phone_book()"
      ],
      "metadata": {
        "colab": {
          "base_uri": "https://localhost:8080/"
        },
        "id": "mghapIUXrP2U",
        "outputId": "6baf59ea-0000-484d-b75b-e6a2a9247a59"
      },
      "execution_count": 3,
      "outputs": [
        {
          "output_type": "stream",
          "name": "stdout",
          "text": [
            "\n",
            "Электронная телефонная книга\n",
            "1. Добавить новую запись\n",
            "2. Выход\n",
            "Выберите действие: 1\n",
            "Введите имя: inc\n",
            "Введите номер телефона: 887788787\n",
            "Запись добавлена: inc - 887788787\n",
            "\n",
            "Электронная телефонная книга\n",
            "1. Добавить новую запись\n",
            "2. Выход\n",
            "Выберите действие: 2\n",
            "Выход из телефонной книги.\n"
          ]
        },
        {
          "output_type": "execute_result",
          "data": {
            "text/plain": [
              "{'inc': '887788787'}"
            ]
          },
          "metadata": {},
          "execution_count": 3
        }
      ]
    }
  ]
}