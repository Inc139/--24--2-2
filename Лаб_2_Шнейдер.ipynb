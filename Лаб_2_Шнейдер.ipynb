{
  "nbformat": 4,
  "nbformat_minor": 0,
  "metadata": {
    "colab": {
      "provenance": [],
      "authorship_tag": "ABX9TyOi/ND3/LwL+2DXQbuURXoy",
      "include_colab_link": true
    },
    "kernelspec": {
      "name": "python3",
      "display_name": "Python 3"
    },
    "language_info": {
      "name": "python"
    }
  },
  "cells": [
    {
      "cell_type": "markdown",
      "metadata": {
        "id": "view-in-github",
        "colab_type": "text"
      },
      "source": [
        "<a href=\"https://colab.research.google.com/github/Inc139/--24--2-2/blob/main/%D0%9B%D0%B0%D0%B1_2_%D0%A8%D0%BD%D0%B5%D0%B9%D0%B4%D0%B5%D1%80.ipynb\" target=\"_parent\"><img src=\"https://colab.research.google.com/assets/colab-badge.svg\" alt=\"Open In Colab\"/></a>"
      ]
    },
    {
      "cell_type": "code",
      "source": [
        "from fastapi import FastAPI, HTTPException\n",
        "from pydantic import BaseModel\n",
        "from typing import List, Optional\n",
        "\n",
        "app = FastAPI()\n",
        "\n",
        "# Временное хранилище заметок (список в памяти)\n",
        "notes_db = []\n",
        "current_id = 1\n",
        "\n",
        "# Модель данных для заметки (PyDantic)\n",
        "class Note(BaseModel):\n",
        "    title: str\n",
        "    content: str\n",
        "\n",
        "class NoteResponse(Note):\n",
        "    id: int\n",
        "\n",
        "# Обработка ошибок\n",
        "@app.exception_handler(HTTPException)\n",
        "async def http_exception_handler(request, exc):\n",
        "    return JSONResponse(\n",
        "        status_code=exc.status_code,\n",
        "        content={\"detail\": exc.detail},\n",
        "    )\n",
        "\n",
        "# Маршруты\n",
        "@app.get(\"/notes\", response_model=List[NoteResponse])\n",
        "def get_all_notes():\n",
        "    return notes_db\n",
        "\n",
        "@app.get(\"/notes/{note_id}\", response_model=NoteResponse)\n",
        "def get_note(note_id: int):\n",
        "    for note in notes_db:\n",
        "        if note[\"id\"] == note_id:\n",
        "            return note\n",
        "    raise HTTPException(status_code=404, detail=\"Заметка не найдена\")\n",
        "\n",
        "@app.get(\"/notes/stats\")\n",
        "def get_stats():\n",
        "    return {\"count\": len(notes_db)}\n",
        "\n",
        "\n",
        "@app.post(\"/notes\", response_model=NoteResponse, status_code=201)\n",
        "def create_note(note: Note):\n",
        "    global current_id\n",
        "    new_note = note.dict()\n",
        "    new_note[\"id\"] = current_id\n",
        "    notes_db.append(new_note)\n",
        "    current_id += 1\n",
        "    return new_note\n",
        "\n",
        "@app.put(\"/notes/{note_id}\", response_model=NoteResponse)\n",
        "def update_note(note_id: int, updated_note: Note):\n",
        "    for idx, note in enumerate(notes_db):\n",
        "        if note[\"id\"] == note_id:\n",
        "            notes_db[idx] = {**updated_note.dict(), \"id\": note_id}\n",
        "            return notes_db[idx]\n",
        "    raise HTTPException(status_code=404, detail=\"Заметка не найдена\")\n",
        "\n",
        "@app.delete(\"/notes/{note_id}\")\n",
        "def delete_note(note_id: int):\n",
        "    for idx, note in enumerate(notes_db):\n",
        "        if note[\"id\"] == note_id:\n",
        "            del notes_db[idx]\n",
        "            return {\"message\": \"Заметка удалена\"}\n",
        "    raise HTTPException(status_code=404, detail=\"Заметка не найдена\")\n",
        "\n",
        "@app.delete(\"/notes\")\n",
        "def delete_all_notes():\n",
        "    notes_db.clear()\n",
        "    return {\"message\": \"Все заметки удалены\"}"
      ],
      "metadata": {
        "id": "xDk3iuojFRug"
      },
      "execution_count": 1,
      "outputs": []
    }
  ]
}