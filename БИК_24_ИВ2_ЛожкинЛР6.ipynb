{
  "nbformat": 4,
  "nbformat_minor": 0,
  "metadata": {
    "colab": {
      "provenance": [],
      "authorship_tag": "ABX9TyOPyC77eAfVHqTtUGfQrqsh",
      "include_colab_link": true
    },
    "kernelspec": {
      "name": "python3",
      "display_name": "Python 3"
    },
    "language_info": {
      "name": "python"
    }
  },
  "cells": [
    {
      "cell_type": "markdown",
      "metadata": {
        "id": "view-in-github",
        "colab_type": "text"
      },
      "source": [
        "<a href=\"https://colab.research.google.com/github/Inc139/--24--2-2/blob/main/%D0%91%D0%98%D0%9A_24_%D0%98%D0%922_%D0%9B%D0%BE%D0%B6%D0%BA%D0%B8%D0%BD%D0%9B%D0%A06.ipynb\" target=\"_parent\"><img src=\"https://colab.research.google.com/assets/colab-badge.svg\" alt=\"Open In Colab\"/></a>"
      ]
    },
    {
      "cell_type": "code",
      "execution_count": null,
      "metadata": {
        "colab": {
          "base_uri": "https://localhost:8080/"
        },
        "id": "GUCgZ6tYQohs",
        "outputId": "a7852529-5ec0-41ba-ee7f-4bb0a19e6f36"
      },
      "outputs": [
        {
          "output_type": "stream",
          "name": "stdout",
          "text": [
            "1\n",
            "3\n",
            "6\n"
          ]
        }
      ],
      "source": [
        "n = int(input())\n",
        "m = int(input())\n",
        "total_sum = sum(range(n,m+1))\n",
        "print (f\"{total_sum}\")"
      ]
    },
    {
      "cell_type": "code",
      "source": [
        "total_sum = 0\n",
        "while True:\n",
        "  n = int(input())\n",
        "  m = int(input())\n",
        "  if n == m:\n",
        "    print(\"neverno\")\n",
        "    break\n",
        "  total_sum = n + m\n",
        "  print(f\"summa:{total_sum}.\")"
      ],
      "metadata": {
        "colab": {
          "base_uri": "https://localhost:8080/"
        },
        "id": "S9i_TZ6WVFM1",
        "outputId": "7fef8b6c-34b2-49c2-8473-5606e44062d6"
      },
      "execution_count": null,
      "outputs": [
        {
          "output_type": "stream",
          "name": "stdout",
          "text": [
            "1\n",
            "2\n",
            "summa:3.\n",
            "3\n",
            "3\n",
            "neverno\n"
          ]
        }
      ]
    },
    {
      "cell_type": "code",
      "source": [
        "with open(\"input.txt\", \"r\", encoding=\"utf-8\") as f:\n",
        "    data = f.readlines()\n",
        "\n",
        "\n"
      ],
      "metadata": {
        "id": "rMQc76pVblRD"
      },
      "execution_count": 5,
      "outputs": []
    }
  ]
}