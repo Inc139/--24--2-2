{
  "nbformat": 4,
  "nbformat_minor": 0,
  "metadata": {
    "colab": {
      "provenance": [],
      "authorship_tag": "ABX9TyPADbGYfAh9D0IEFtoE3g3J",
      "include_colab_link": true
    },
    "kernelspec": {
      "name": "python3",
      "display_name": "Python 3"
    },
    "language_info": {
      "name": "python"
    }
  },
  "cells": [
    {
      "cell_type": "markdown",
      "metadata": {
        "id": "view-in-github",
        "colab_type": "text"
      },
      "source": [
        "<a href=\"https://colab.research.google.com/github/Inc139/--24--2-2/blob/main/%D0%9B%D0%B0%D0%B1_6_%D0%A8%D0%BD%D0%B5%D0%B9%D0%B4%D0%B5%D1%80.ipynb\" target=\"_parent\"><img src=\"https://colab.research.google.com/assets/colab-badge.svg\" alt=\"Open In Colab\"/></a>"
      ]
    },
    {
      "cell_type": "code",
      "source": [
        "class Point:\n",
        "    def __init__(self, x, y):\n",
        "        self.x = x\n",
        "        self.y = y\n",
        "\n",
        "    def get_coordinates(self):\n",
        "        return f\"Координаты точки: ({self.x}, {self.y})\"\n",
        "\n",
        "    def calculate_rectangle_properties(self, other_point):\n",
        "        width = abs(self.x - other_point.x)\n",
        "        height = abs(self.y - other_point.y)\n",
        "        perimeter = 2 * (width + height)\n",
        "        area = width * height\n",
        "        return perimeter, area\n",
        "\n",
        "point1 = Point(1, 2)\n",
        "point2 = Point(4, 6)\n",
        "\n",
        "print(point1.get_coordinates())\n",
        "perimeter, area = point1.calculate_rectangle_properties(point2)\n",
        "print(f\"Периметр прямоугольника: {perimeter}\")\n",
        "print(f\"Площадь прямоугольника: {area}\")"
      ],
      "metadata": {
        "colab": {
          "base_uri": "https://localhost:8080/"
        },
        "id": "q5NLlomzG8OO",
        "outputId": "96b8eddf-29a4-48eb-f173-09ea36f16547"
      },
      "execution_count": 4,
      "outputs": [
        {
          "output_type": "stream",
          "name": "stdout",
          "text": [
            "Координаты точки: (1, 2)\n",
            "Периметр прямоугольника: 14\n",
            "Площадь прямоугольника: 12\n"
          ]
        }
      ]
    },
    {
      "cell_type": "code",
      "source": [
        "import random\n",
        "class Person:\n",
        "    def __init__(self, name, age, weight, height):\n",
        "        self.name = name\n",
        "        self.age = age\n",
        "        self.weight = weight\n",
        "        self.height = height\n",
        "\n",
        "    def sleep(self):\n",
        "        sleep_hours = random.randint(2, 8)\n",
        "        return f'{self.name} spal segodnya {sleep_hours} chasov'\n",
        "\n",
        "    def conversation(self, another_person):\n",
        "        print(f'{self.name} obshaetsya s {another_person.name}')\n",
        "\n",
        "\n",
        "p1 = Person(name='Alex', age=19, weight=128, height=210)\n",
        "p2 = Person('Vitaliy', 53, 68, 175)\n",
        "\n",
        "\n",
        "\n",
        "print(p1.name)\n",
        "print(p2.age)\n",
        "print(p1.sleep())\n",
        "p1.conversation(p2)\n",
        "\n",
        "\n",
        "#1\n",
        "\n",
        "class Animal:\n",
        "    def __init__(self, name, age, weight, height, color):\n",
        "        self.name = name\n",
        "        self.age = age\n",
        "        self.weight = weight\n",
        "        self.height = height\n",
        "        self.color = color\n",
        "    def eat(self):\n",
        "        eatedanimals_counter = random.randint(1, 10)\n",
        "        return f'{self.name} eated today {eatedanimals_counter} animals'\n",
        "    def walk(self):\n",
        "        walked_km = random.randint(1, 100)\n",
        "        return f'{self.name} walked today {walked_km} kilometers'\n",
        "    def agressiveness(self, another_animal):\n",
        "        return f'{self.name} agressive to {another_animal.name}'\n",
        "\n",
        "a1 = Animal(name='tiger', age=10, weight=100, height=120, color='yellow and orange')\n",
        "a2 = Animal(name='lion', age=12, weight=150, height=150, color='Orange')\n",
        "\n",
        "print(a1.name, a1.color, a1.weight, a1.height, a1.age)\n",
        "print(a1.eat())\n",
        "print(a1.walk())\n",
        "print(a1.agressiveness(a2))\n",
        "\n",
        "class subject:\n",
        "    def __init__(self, name, weight, height, color, lenght):\n",
        "        self.name = name\n",
        "        self.lenght = lenght\n",
        "        self.weight = weight\n",
        "        self.height = height\n",
        "        self.color = color\n",
        "    def shop(self):\n",
        "        priceofitem = random.randint(10, 30)\n",
        "        return f'{self.name} price is {priceofitem} Rub'\n",
        "    def service_life(self):\n",
        "        serv_lv1 = random.randint(1, 3)\n",
        "        return f\"{self.name} service life is {serv_lv1} months\"\n",
        "    def belonging(self, another_item):\n",
        "        return f\"{self.name} and {another_item.name} belongs to the office items\"\n",
        "\n",
        "\n",
        "item1 = subject(name='pen', weight=0.1, height=1, color='yellow', lenght=12)\n",
        "item2 = subject(name='rullet', weight=0.3, height=1, color='blue', lenght=200)\n",
        "\n",
        "print(item1.name, item1.color)\n",
        "print(item1.shop())\n",
        "print(item2.service_life())\n",
        "print(item1.belonging(item2))"
      ],
      "metadata": {
        "colab": {
          "base_uri": "https://localhost:8080/"
        },
        "id": "vy0-lRhCJrX8",
        "outputId": "fd144d97-9adb-4397-cb19-8931d068cfcb"
      },
      "execution_count": 15,
      "outputs": [
        {
          "output_type": "stream",
          "name": "stdout",
          "text": [
            "Alex\n",
            "53\n",
            "Alex spal segodnya 6 chasov\n",
            "Alex obshaetsya s Vitaliy\n",
            "tiger yellow and orange 100 120 10\n",
            "tiger eated today 3 animals\n",
            "tiger walked today 52 kilometers\n",
            "tiger agressive to lion\n",
            "pen yellow\n",
            "pen price is 23 Rub\n",
            "rullet service life is 3 months\n",
            "pen and rullet belongs to the office items\n"
          ]
        }
      ]
    }
  ]
}